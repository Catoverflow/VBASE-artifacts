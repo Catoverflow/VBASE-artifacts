{
 "cells": [
  {
   "cell_type": "markdown",
   "metadata": {},
   "source": [
    "# SPTAG python wrapper tutorial \n",
    "\n",
    "To end-to-end build a vector search online service, it contains two steps:\n",
    "- Offline build SPTAG index for database vectors\n",
    "- Online serve the index to support vector search requests from the clients\n",
    "\n",
    "## Offline build SPTAG index\n",
    "\n",
    "> Prepare input vectors and metadatas for SPTAG"
   ]
  },
  {
   "cell_type": "code",
   "execution_count": 24,
   "metadata": {},
   "outputs": [],
   "source": [
    "import os\n",
    "import shutil\n",
    "import numpy as np\n",
    "\n",
    "vector_number = 1000\n",
    "vector_dimension = 100\n",
    "\n",
    "# Randomly generate the database vectors. Currently SPTAG only support int8, int16 and float32 data type.\n",
    "x = np.random.rand(vector_number, vector_dimension).astype(np.float32) \n",
    "\n",
    "# Prepare metadata for each vectors, separate them by '\\n'. Currently SPTAG python wrapper only support '\\n' as the separator\n",
    "m = ''\n",
    "for i in range(vector_number):\n",
    "    m += str(i) + '\\n'"
   ]
  },
  {
   "cell_type": "markdown",
   "metadata": {},
   "source": [
    "> Build SPTAG index for database vectors **x**"
   ]
  },
  {
   "cell_type": "code",
   "execution_count": 25,
   "metadata": {},
   "outputs": [
    {
     "data": {
      "text/plain": [
       "['deletes.bin',\n",
       " 'graph.bin',\n",
       " 'indexloader.ini',\n",
       " 'metadata.bin',\n",
       " 'metadataIndex.bin',\n",
       " 'tree.bin',\n",
       " 'vectors.bin']"
      ]
     },
     "execution_count": 25,
     "metadata": {},
     "output_type": "execute_result"
    }
   ],
   "source": [
    "import SPTAG\n",
    "\n",
    "index = SPTAG.AnnIndex('BKT', 'Float', vector_dimension)\n",
    "\n",
    "# Set the thread number to speed up the build procedure in parallel \n",
    "index.SetBuildParam(\"NumberOfThreads\", '4', \"Index\")\n",
    "\n",
    "# Set the distance type. Currently SPTAG only support Cosine and L2 distances. Here Cosine distance is not the Cosine similarity. The smaller Cosine distance it is, the better.\n",
    "index.SetBuildParam(\"DistCalcMethod\", 'L2', \"Index\") \n",
    "\n",
    "if (os.path.exists(\"sptag_index\")):\n",
    "    shutil.rmtree(\"sptag_index\")\n",
    "if index.BuildWithMetaData(x, m, vector_number, False, False):\n",
    "    index.Save(\"sptag_index\") # Save the index to the disk\n",
    "\n",
    "os.listdir('sptag_index')"
   ]
  },
  {
   "cell_type": "code",
   "execution_count": 26,
   "metadata": {},
   "outputs": [
    {
     "name": "stdout",
     "output_type": "stream",
     "text": [
      "[458, 474, 120, 431, 383, 686, 927, 522, 795, 167]\n",
      "[10.889548301696777, 11.595512390136719, 11.68349838256836, 12.185091972351074, 12.233480453491211, 12.484166145324707, 12.542947769165039, 12.677164077758789, 12.810869216918945, 12.867197036743164]\n",
      "[b'458\\n', b'474\\n', b'120\\n', b'431\\n', b'383\\n', b'686\\n', b'927\\n', b'522\\n', b'795\\n', b'167\\n']\n"
     ]
    }
   ],
   "source": [
    "# Local index test on the vector search\n",
    "index = SPTAG.AnnIndex.Load('sptag_index')\n",
    "\n",
    "# prepare query vector\n",
    "q = np.random.rand(vector_dimension).astype(np.float32)\n",
    "\n",
    "result = index.SearchWithMetaData(q, 10) # Search k=3 nearest vectors for query vector q\n",
    "print (result[0]) # nearest k vector ids\n",
    "print (result[1]) # nearest k vector distances\n",
    "print (result[2]) # nearest k vector metadatas"
   ]
  },
  {
   "cell_type": "markdown",
   "metadata": {},
   "source": [
    "> Build SPTAG index for database vector **x** with PQ quantization"
   ]
  },
  {
   "cell_type": "code",
   "execution_count": 27,
   "metadata": {},
   "outputs": [
    {
     "name": "stdout",
     "output_type": "stream",
     "text": [
      "CompletedProcess(args='Quantizer.exe -d 100 -v Float -f DEFAULT -i sptag_index\\\\vectors.bin -o quan_doc_vectors.bin -oq quantizer.bin -qt PQQuantizer -qd 50 -ts 1000 -norm false', returncode=0)\n",
      "(1000, 50)\n"
     ]
    }
   ],
   "source": [
    "import subprocess\n",
    "import struct\n",
    "import numpy as np\n",
    "\n",
    "if (os.path.exists(\"quantizer.bin\")):\n",
    "    os.remove(\"quantizer.bin\")\n",
    "if (os.path.exists(\"quan_doc_vectors.bin\")):\n",
    "    os.remove(\"quan_doc_vectors.bin\")\n",
    "cmd = \"Quantizer.exe -d %d -v Float -f DEFAULT -i sptag_index\\\\vectors.bin -o quan_doc_vectors.bin -oq quantizer.bin -qt PQQuantizer -qd %d -ts %d -norm false\" % (vector_dimension, int(vector_dimension / 2), vector_number)\n",
    "result = subprocess.run(cmd)\n",
    "print (result) \n",
    "# For SPTAG index with quantization:\n",
    "#     Cosine distance: norm -> true and use L2 for index build\n",
    "#     L2 distance: norm -> false and use L2 for index build\n",
    "\n",
    "f = open('quan_doc_vectors.bin', 'rb')\n",
    "r = struct.unpack('i', f.read(4))[0]\n",
    "c = struct.unpack('i', f.read(4))[0]\n",
    "quan_x = np.frombuffer(f.read(r*c), dtype=np.uint8).reshape((r,c))\n",
    "f.close()\n",
    "print (quan_x.shape)"
   ]
  },
  {
   "cell_type": "code",
   "execution_count": 28,
   "metadata": {},
   "outputs": [
    {
     "data": {
      "text/plain": [
       "['deletes.bin',\n",
       " 'graph.bin',\n",
       " 'indexloader.ini',\n",
       " 'metadata.bin',\n",
       " 'metadataIndex.bin',\n",
       " 'quantizer.bin',\n",
       " 'tree.bin',\n",
       " 'vectors.bin']"
      ]
     },
     "execution_count": 28,
     "metadata": {},
     "output_type": "execute_result"
    }
   ],
   "source": [
    "import SPTAG\n",
    "\n",
    "index = SPTAG.AnnIndex('BKT', 'UInt8', int(vector_dimension / 2))\n",
    "\n",
    "# Set the thread number to speed up the build procedure in parallel \n",
    "index.SetBuildParam(\"NumberOfThreads\", '4', \"Index\")\n",
    "\n",
    "# Set the distance type. Currently SPTAG only support Cosine and L2 distances. Here Cosine distance is not the Cosine similarity. The smaller Cosine distance it is, the better.\n",
    "index.SetBuildParam(\"DistCalcMethod\", 'L2', \"Index\") \n",
    "\n",
    "if (os.path.exists(\"quan_sptag_index\")):\n",
    "    shutil.rmtree(\"quan_sptag_index\")\n",
    "if index.LoadQuantizer(\"quantizer.bin\") and index.BuildWithMetaData(quan_x, m, vector_number, False, False):\n",
    "    index.Save(\"quan_sptag_index\") # Save the index to the disk\n",
    "\n",
    "os.listdir('quan_sptag_index')"
   ]
  },
  {
   "cell_type": "code",
   "execution_count": 29,
   "metadata": {},
   "outputs": [
    {
     "name": "stdout",
     "output_type": "stream",
     "text": [
      "[458, 120, 474, 431, 383, 927, 686, 795, 522, 322, 167, 69]\n",
      "[10.78742790222168, 11.62553882598877, 11.796710014343262, 12.205741882324219, 12.333723068237305, 12.543768882751465, 12.558581352233887, 12.744610786437988, 12.799510955810547, 12.994494438171387, 13.008194923400879, 13.038790702819824]\n",
      "[b'458\\n', b'120\\n', b'474\\n', b'431\\n', b'383\\n', b'927\\n', b'686\\n', b'795\\n', b'522\\n', b'322\\n', b'167\\n', b'69\\n']\n"
     ]
    }
   ],
   "source": [
    "# Local index test on the vector search\n",
    "index = SPTAG.AnnIndex.Load('quan_sptag_index')\n",
    "index.SetQuantizerADC(True)\n",
    "result = index.SearchWithMetaData(q, 12) # Search k=3 nearest vectors for query vector q\n",
    "print (result[0]) # nearest k vector ids\n",
    "print (result[1]) # nearest k vector distances\n",
    "print (result[2]) # nearest k vector metadatas"
   ]
  },
  {
   "cell_type": "code",
   "execution_count": 30,
   "metadata": {},
   "outputs": [
    {
     "data": {
      "text/plain": [
       "['HeadIndex',\n",
       " 'indexloader.ini',\n",
       " 'metadata.bin',\n",
       " 'metadataIndex.bin',\n",
       " 'SPTAGFullList.bin',\n",
       " 'SPTAGHeadVectorIDs.bin',\n",
       " 'SPTAGHeadVectors.bin']"
      ]
     },
     "execution_count": 30,
     "metadata": {},
     "output_type": "execute_result"
    }
   ],
   "source": [
    "import SPTAG\n",
    "\n",
    "index = SPTAG.AnnIndex('SPANN', 'Float', vector_dimension)\n",
    "\n",
    "# Set the thread number to speed up the build procedure in parallel \n",
    "index.SetBuildParam(\"IndexAlgoType\", \"BKT\", \"Base\")\n",
    "index.SetBuildParam(\"IndexDirectory\", \"spann_index\", \"Base\")\n",
    "index.SetBuildParam(\"DistCalcMethod\", \"L2\", \"Base\")\n",
    "\n",
    "index.SetBuildParam(\"isExecute\", \"true\", \"SelectHead\")\n",
    "index.SetBuildParam(\"NumberOfThreads\", \"4\", \"SelectHead\")\n",
    "index.SetBuildParam(\"Ratio\", \"0.2\", \"SelectHead\") # index.SetBuildParam(\"Count\", \"200\", \"SelectHead\")\n",
    "\n",
    "index.SetBuildParam(\"isExecute\", \"true\", \"BuildHead\")\n",
    "index.SetBuildParam(\"RefineIterations\", \"3\", \"BuildHead\")\n",
    "index.SetBuildParam(\"NumberOfThreads\", \"4\", \"BuildHead\")\n",
    "\n",
    "index.SetBuildParam(\"isExecute\", \"true\", \"BuildSSDIndex\")\n",
    "index.SetBuildParam(\"BuildSsdIndex\", \"true\", \"BuildSSDIndex\")\n",
    "index.SetBuildParam(\"PostingPageLimit\", \"12\", \"BuildSSDIndex\")\n",
    "index.SetBuildParam(\"SearchPostingPageLimit\", \"12\", \"BuildSSDIndex\")\n",
    "index.SetBuildParam(\"NumberOfThreads\", \"4\", \"BuildSSDIndex\")\n",
    "index.SetBuildParam(\"InternalResultNum\", \"32\", \"BuildSSDIndex\")\n",
    "index.SetBuildParam(\"SearchInternalResultNum\", \"64\", \"BuildSSDIndex\")\n",
    "\n",
    "if (os.path.exists(\"spann_index\")):\n",
    "    shutil.rmtree(\"spann_index\")\n",
    "\n",
    "if index.BuildWithMetaData(x, m, vector_number, False, False):\n",
    "    index.Save(\"spann_index\") # Save the index to the disk\n",
    "\n",
    "os.listdir('spann_index')"
   ]
  },
  {
   "cell_type": "code",
   "execution_count": 31,
   "metadata": {},
   "outputs": [
    {
     "name": "stdout",
     "output_type": "stream",
     "text": [
      "[458, 474, 120, 431, 383, 686, 927, 522, 795, 167, 457, 322]\n",
      "[10.889548301696777, 11.595512390136719, 11.68349838256836, 12.185091972351074, 12.233480453491211, 12.484166145324707, 12.542947769165039, 12.677164077758789, 12.810869216918945, 12.867197036743164, 12.98002815246582, 13.027528762817383]\n",
      "[b'458\\n', b'474\\n', b'120\\n', b'431\\n', b'383\\n', b'686\\n', b'927\\n', b'522\\n', b'795\\n', b'167\\n', b'457\\n', b'322\\n']\n"
     ]
    }
   ],
   "source": [
    "index = SPTAG.AnnIndex.Load('spann_index')\n",
    "result = index.SearchWithMetaData(q, 12) # Search k=3 nearest vectors for query vector q\n",
    "print (result[0]) # nearest k vector ids\n",
    "print (result[1]) # nearest k vector distances\n",
    "print (result[2]) # nearest k vector metadatas"
   ]
  },
  {
   "cell_type": "code",
   "execution_count": 32,
   "metadata": {},
   "outputs": [
    {
     "data": {
      "text/plain": [
       "['HeadIndex',\n",
       " 'indexloader.ini',\n",
       " 'metadata.bin',\n",
       " 'metadataIndex.bin',\n",
       " 'quantizer.bin',\n",
       " 'SPTAGFullList.bin',\n",
       " 'SPTAGHeadVectorIDs.bin',\n",
       " 'SPTAGHeadVectors.bin']"
      ]
     },
     "execution_count": 32,
     "metadata": {},
     "output_type": "execute_result"
    }
   ],
   "source": [
    "import SPTAG\n",
    "\n",
    "index = SPTAG.AnnIndex('SPANN', 'UInt8', int(vector_dimension / 2))\n",
    "\n",
    "# Set the thread number to speed up the build procedure in parallel \n",
    "index.SetBuildParam(\"IndexAlgoType\", \"BKT\", \"Base\")\n",
    "index.SetBuildParam(\"IndexDirectory\", \"spann_quan_index\", \"Base\")\n",
    "index.SetBuildParam(\"DistCalcMethod\", \"L2\", \"Base\")\n",
    "index.SetBuildParam(\"QuantizerFilePath\", \"quantizer.bin\", \"Base\")\n",
    "\n",
    "index.SetBuildParam(\"isExecute\", \"true\", \"SelectHead\")\n",
    "index.SetBuildParam(\"NumberOfThreads\", \"4\", \"SelectHead\")\n",
    "index.SetBuildParam(\"Ratio\", \"0.2\", \"SelectHead\") # index.SetBuildParam(\"Count\", \"200\", \"SelectHead\")\n",
    "\n",
    "index.SetBuildParam(\"isExecute\", \"true\", \"BuildHead\")\n",
    "index.SetBuildParam(\"RefineIterations\", \"3\", \"BuildHead\")\n",
    "index.SetBuildParam(\"NumberOfThreads\", \"4\", \"BuildHead\")\n",
    "\n",
    "index.SetBuildParam(\"isExecute\", \"true\", \"BuildSSDIndex\")\n",
    "index.SetBuildParam(\"BuildSsdIndex\", \"true\", \"BuildSSDIndex\")\n",
    "index.SetBuildParam(\"PostingPageLimit\", \"12\", \"BuildSSDIndex\")\n",
    "index.SetBuildParam(\"SearchPostingPageLimit\", \"12\", \"BuildSSDIndex\")\n",
    "index.SetBuildParam(\"NumberOfThreads\", \"4\", \"BuildSSDIndex\")\n",
    "index.SetBuildParam(\"InternalResultNum\", \"32\", \"BuildSSDIndex\")\n",
    "index.SetBuildParam(\"SearchInternalResultNum\", \"64\", \"BuildSSDIndex\")\n",
    "\n",
    "if (os.path.exists(\"spann_quan_index\")):\n",
    "    shutil.rmtree(\"spann_quan_index\")\n",
    "\n",
    "if index.LoadQuantizer(\"quantizer.bin\") and index.BuildWithMetaData(quan_x, m, vector_number, False, False):\n",
    "    index.Save(\"spann_quan_index\") # Save the index to the disk\n",
    "\n",
    "os.listdir('spann_quan_index')"
   ]
  },
  {
   "cell_type": "code",
   "execution_count": 33,
   "metadata": {},
   "outputs": [
    {
     "name": "stdout",
     "output_type": "stream",
     "text": [
      "[458, 120, 474, 431, 383, 927, 686, 795, 522, 322, 167, 69]\n",
      "[10.78742790222168, 11.62553882598877, 11.796710014343262, 12.205741882324219, 12.333723068237305, 12.543768882751465, 12.558581352233887, 12.744610786437988, 12.799510955810547, 12.994494438171387, 13.008194923400879, 13.038790702819824]\n",
      "[b'458\\n', b'120\\n', b'474\\n', b'431\\n', b'383\\n', b'927\\n', b'686\\n', b'795\\n', b'522\\n', b'322\\n', b'167\\n', b'69\\n']\n"
     ]
    }
   ],
   "source": [
    "index = SPTAG.AnnIndex.Load('spann_quan_index')\n",
    "index.SetQuantizerADC(True)\n",
    "result = index.SearchWithMetaData(q, 12) # Search k=3 nearest vectors for query vector q\n",
    "print (result[0]) # nearest k vector ids\n",
    "print (result[1]) # nearest k vector distances\n",
    "print (result[2]) # nearest k vector metadatas"
   ]
  },
  {
   "cell_type": "markdown",
   "metadata": {},
   "source": [
    "## Online serve the index\n",
    "\n",
    "Start the vector search service on the host machine which listens for the client requests on the port 8000\n",
    "\n",
    "> Write a server configuration file **service.ini** as follows:\n",
    "\n",
    "```bash\n",
    "[Service]\n",
    "ListenAddr=0.0.0.0\n",
    "ListenPort=8000\n",
    "ThreadNumber=8\n",
    "SocketThreadNumber=8\n",
    "\n",
    "[QueryConfig]\n",
    "DefaultMaxResultNumber=6\n",
    "DefaultSeparator=|\n",
    "\n",
    "[Index]\n",
    "List=MyIndex\n",
    "\n",
    "[Index_MyIndex]\n",
    "IndexFolder=sptag_index\n",
    "```\n",
    "\n",
    "> Start the server on the host machine\n",
    "\n",
    "```bash\n",
    "Server.exe -m socket -c service.ini\n",
    "```\n",
    "\n",
    "It will print the follow messages:\n",
    "\n",
    "```bash\n",
    "Setting TreeFilePath with value tree.bin\n",
    "Setting GraphFilePath with value graph.bin\n",
    "Setting VectorFilePath with value vectors.bin\n",
    "Setting DeleteVectorFilePath with value deletes.bin\n",
    "Setting BKTNumber with value 1\n",
    "Setting BKTKmeansK with value 32\n",
    "Setting BKTLeafSize with value 8\n",
    "Setting Samples with value 1000\n",
    "Setting TPTNumber with value 32\n",
    "Setting TPTLeafSize with value 2000\n",
    "Setting NumTopDimensionTpTreeSplit with value 5\n",
    "Setting NeighborhoodSize with value 32\n",
    "Setting GraphNeighborhoodScale with value 2\n",
    "Setting GraphCEFScale with value 2\n",
    "Setting RefineIterations with value 2\n",
    "Setting CEF with value 1000\n",
    "Setting MaxCheckForRefineGraph with value 8192\n",
    "Setting NumberOfThreads with value 4\n",
    "Setting DistCalcMethod with value Cosine\n",
    "Setting DeletePercentageForRefine with value 0.400000\n",
    "Setting AddCountForRebuild with value 1000\n",
    "Setting MaxCheck with value 8192\n",
    "Setting ThresholdOfNumberOfContinuousNoBetterPropagation with value 3\n",
    "Setting NumberOfInitialDynamicPivots with value 50\n",
    "Setting NumberOfOtherDynamicPivots with value 4\n",
    "Load Vector From sptag_index\\vectors.bin\n",
    "Load Vector (100, 10) Finish!\n",
    "Load BKT From sptag_index\\tree.bin\n",
    "Load BKT (1,101) Finish!\n",
    "Load Graph From sptag_index\\graph.bin\n",
    "Load Graph (100, 32) Finish!\n",
    "Load DeleteID From sptag_index\\deletes.bin\n",
    "Load DeleteID (100, 1) Finish!\n",
    "Start to listen 0.0.0.0:8000 ...\n",
    "```\n",
    "\n",
    "> Start python client to connect to the server and send vector search request."
   ]
  },
  {
   "cell_type": "code",
   "execution_count": null,
   "metadata": {},
   "outputs": [],
   "source": [
    "import SPTAGClient\n",
    "import time\n",
    "\n",
    "# connect to the server\n",
    "client = SPTAGClient.AnnClient('127.0.0.1', '8000')\n",
    "while not client.IsConnected():\n",
    "    time.sleep(1)\n",
    "client.SetTimeoutMilliseconds(18000)\n",
    "\n",
    "k = 3\n",
    "vector_dimension = 10\n",
    "# prepare query vector\n",
    "q = np.random.rand(vector_dimension).astype(np.float32)\n",
    "\n",
    "result = client.Search(q, k, 'Float', True) # AnnClient.Search(query_vector, knn, data_type, with_metadata)\n",
    "\n",
    "print (result[0]) # nearest k vector ids\n",
    "print (result[1]) # nearest k vector distances\n",
    "print (result[2]) # nearest k vector metadatas\n",
    "\n"
   ]
  }
 ],
 "metadata": {
  "file_extension": ".py",
  "kernelspec": {
   "display_name": "Python 3.9.12 64-bit",
   "language": "python",
   "name": "python3"
  },
  "language_info": {
   "codemirror_mode": {
    "name": "ipython",
    "version": 3
   },
   "file_extension": ".py",
   "mimetype": "text/x-python",
   "name": "python",
   "nbconvert_exporter": "python",
   "pygments_lexer": "ipython3",
   "version": "3.9.12"
  },
  "mimetype": "text/x-python",
  "name": "python",
  "npconvert_exporter": "python",
  "pygments_lexer": "ipython2",
  "version": 2,
  "vscode": {
   "interpreter": {
    "hash": "81794d4967e6c3204c66dcd87b604927b115b27c00565d3d43f05ba2f3a2cb0d"
   }
  }
 },
 "nbformat": 4,
 "nbformat_minor": 2
}
